{
 "cells": [
  {
   "cell_type": "code",
   "execution_count": null,
   "id": "desperate-player",
   "metadata": {},
   "outputs": [],
   "source": [
    "import numpy as np\n",
    "import pandas as pd\n",
    "import matplotlib.pyplot as plt\n",
    "import pymc3 as pm\n",
    "import arviz as az\n",
    "\n",
    "az.style.use(\"arviz-darkgrid\")"
   ]
  },
  {
   "cell_type": "markdown",
   "id": "early-influence",
   "metadata": {},
   "source": [
    "## Change these constants to personalize your results"
   ]
  },
  {
   "cell_type": "code",
   "execution_count": null,
   "id": "invisible-detector",
   "metadata": {},
   "outputs": [],
   "source": [
    "NROF_SAMPLES = 1000  # ... to take for probability distributions\n",
    "NROF_SAMPLE_LINES = 50  # ... to plot for probability distributions\n",
    "NROF_DAYS = 400  # ... to calculate the expected number of stories for\n",
    "NROF_STORIES = 100  # ... to calculate the expected number of days for\n",
    "PERCENTILES = np.array([50, 70, 80, 90, 95, 99])  # ... to show the probability of\n",
    "PLOT_PERCENTILE = 90"
   ]
  },
  {
   "cell_type": "markdown",
   "id": "blond-championship",
   "metadata": {},
   "source": [
    "## Historical data"
   ]
  },
  {
   "cell_type": "code",
   "execution_count": null,
   "id": "static-hungarian",
   "metadata": {},
   "outputs": [],
   "source": [
    "df = pd.read_csv('data.csv', usecols=['Done'], parse_dates=['Done']).dropna()\n",
    "df = df.rename(columns={\"Done\": \"Date\"}).set_index(\"Date\").assign(Stories=1)\n",
    "df = df.resample(\"D\").count()\n",
    "df.head()"
   ]
  },
  {
   "cell_type": "code",
   "execution_count": null,
   "id": "running-texas",
   "metadata": {},
   "outputs": [],
   "source": [
    "def plot_burn_up():\n",
    "    _, ax = plt.subplots()\n",
    "    ax.plot(df.index, df.cumsum().Stories)\n",
    "    ax.set_title(\"Burn-up\")\n",
    "    ax.set_xlabel(\"Date\")\n",
    "    ax.set_ylabel(\"Stories\")\n",
    "    return ax"
   ]
  },
  {
   "cell_type": "code",
   "execution_count": null,
   "id": "collect-wireless",
   "metadata": {},
   "outputs": [],
   "source": [
    "ax = plot_burn_up()"
   ]
  },
  {
   "cell_type": "markdown",
   "id": "latin-cable",
   "metadata": {},
   "source": [
    "## The model"
   ]
  },
  {
   "cell_type": "code",
   "execution_count": null,
   "id": "japanese-audience",
   "metadata": {},
   "outputs": [],
   "source": [
    "with pm.Model() as m:\n",
    "    pm.Data(\"count_data\", df.Stories)\n",
    "    pm.Lognormal(\"mu\", mu=0, sigma=1)\n",
    "    pm.Poisson(\"count\", mu=m.mu, observed=m.count_data)"
   ]
  },
  {
   "cell_type": "markdown",
   "id": "capable-brain",
   "metadata": {},
   "source": [
    "## Evaluate the model\n",
    "\n",
    "What would the model expect based on the priors?"
   ]
  },
  {
   "cell_type": "code",
   "execution_count": null,
   "id": "experimental-brain",
   "metadata": {},
   "outputs": [],
   "source": [
    "with m:\n",
    "    prior_pc = pm.sample_prior_predictive(NROF_SAMPLES)"
   ]
  },
  {
   "cell_type": "code",
   "execution_count": null,
   "id": "framed-phone",
   "metadata": {},
   "outputs": [],
   "source": [
    "def plot_stories_per_day(*, prior=None, posterior_predictive=None, group=\"posterior\"):\n",
    "    ax = az.plot_ppc(az.from_pymc3(prior=prior_pc, model=m), group=\"prior\", num_pp_samples=NROF_SAMPLE_LINES)\n",
    "    ax.set_xlabel(\"Stories per Day\")\n",
    "    ax.set_ylabel(\"Probability\")\n",
    "    return ax"
   ]
  },
  {
   "cell_type": "code",
   "execution_count": null,
   "id": "desperate-backup",
   "metadata": {},
   "outputs": [],
   "source": [
    "ax = plot_stories_per_day(prior=prior_pc, group=\"prior\")\n",
    "ax.set_title(\"Expected stories per day before seeing any data\")\n",
    "None"
   ]
  },
  {
   "cell_type": "code",
   "execution_count": null,
   "id": "nervous-tooth",
   "metadata": {},
   "outputs": [],
   "source": [
    "def plot_burn_up_ppc(ppc):\n",
    "    ax = plot_burn_up()\n",
    "    ax.plot(df.index, ppc[\"count\"][:NROF_SAMPLE_LINES,:].T.cumsum(axis=0), color=\"black\", alpha=.1)\n",
    "    return ax"
   ]
  },
  {
   "cell_type": "code",
   "execution_count": null,
   "id": "hired-anatomy",
   "metadata": {},
   "outputs": [],
   "source": [
    "ax = plot_burn_up_ppc(prior_pc)\n",
    "ax.set_title(\"Expected burn-up before seeing any data\")\n",
    "None"
   ]
  },
  {
   "cell_type": "markdown",
   "id": "offshore-begin",
   "metadata": {},
   "source": [
    "## Inferencing\n",
    "\n",
    "Update the priors based on the data we've seen."
   ]
  },
  {
   "cell_type": "code",
   "execution_count": null,
   "id": "signal-static",
   "metadata": {},
   "outputs": [],
   "source": [
    "with m:\n",
    "    idata = pm.sample(return_inferencedata=True)"
   ]
  },
  {
   "cell_type": "markdown",
   "id": "internal-catalog",
   "metadata": {},
   "source": [
    "## Visualize posterior\n",
    "\n",
    "Compare the trained model with the observed data."
   ]
  },
  {
   "cell_type": "code",
   "execution_count": null,
   "id": "statutory-payment",
   "metadata": {},
   "outputs": [],
   "source": [
    "with m:\n",
    "    post_pc = pm.sample_posterior_predictive(idata, NROF_SAMPLES)"
   ]
  },
  {
   "cell_type": "code",
   "execution_count": null,
   "id": "australian-destiny",
   "metadata": {},
   "outputs": [],
   "source": [
    "ax = plot_stories_per_day(prior=post_pc)\n",
    "ax.set_title(\"Expected stories per day after seeing any data\")\n",
    "None"
   ]
  },
  {
   "cell_type": "code",
   "execution_count": null,
   "id": "fleet-consumption",
   "metadata": {},
   "outputs": [],
   "source": [
    "ax = plot_burn_up_ppc(post_pc)\n",
    "ax.set_title(\"Expected burn-up after seeing the data\")\n",
    "None"
   ]
  },
  {
   "cell_type": "markdown",
   "id": "legendary-parliament",
   "metadata": {},
   "source": [
    "## Predictions"
   ]
  },
  {
   "cell_type": "code",
   "execution_count": null,
   "id": "developing-revision",
   "metadata": {},
   "outputs": [],
   "source": [
    "with m:\n",
    "    pm.set_data({\n",
    "        \"count_data\": np.zeros(NROF_DAYS, dtype=int),  # generate data for the 100 days to come\n",
    "    })\n",
    "    post_pred = pm.sample_posterior_predictive(idata, NROF_SAMPLES)"
   ]
  },
  {
   "cell_type": "code",
   "execution_count": null,
   "id": "focused-playing",
   "metadata": {},
   "outputs": [],
   "source": [
    "def plot_expected_burn_up(percentile=None):\n",
    "    _, ax = plt.subplots()\n",
    "    x = np.arange(NROF_DAYS)\n",
    "    ax.plot(x, post_pred[\"count\"][:NROF_SAMPLE_LINES,:].T.cumsum(axis=0),\n",
    "            color=\"black\", alpha=.1)\n",
    "    ax.set_title(\"Expected burn-up for future stories\")\n",
    "    ax.set_xlabel(\"Days\")\n",
    "    ax.set_ylabel(\"Stories\")\n",
    "    if percentile:\n",
    "        ax.plot(x, np.percentile(post_pred[\"count\"].cumsum(axis=1), 100-percentile, axis=0))\n",
    "    return ax"
   ]
  },
  {
   "cell_type": "code",
   "execution_count": null,
   "id": "humanitarian-singles",
   "metadata": {},
   "outputs": [],
   "source": [
    "ax = plot_expected_burn_up()"
   ]
  },
  {
   "cell_type": "code",
   "execution_count": null,
   "id": "printable-exception",
   "metadata": {},
   "outputs": [],
   "source": [
    "ax = plot_expected_burn_up(percentile=PLOT_PERCENTILE)"
   ]
  },
  {
   "cell_type": "markdown",
   "id": "verbal-habitat",
   "metadata": {},
   "source": [
    "## How many stories will be done in X days?"
   ]
  },
  {
   "cell_type": "code",
   "execution_count": null,
   "id": "vertical-velvet",
   "metadata": {},
   "outputs": [],
   "source": [
    "ax = plot_expected_burn_up()\n",
    "ax.axvline(NROF_DAYS)\n",
    "None"
   ]
  },
  {
   "cell_type": "code",
   "execution_count": null,
   "id": "thirty-rocket",
   "metadata": {},
   "outputs": [],
   "source": [
    "stories_samples = post_pred[\"count\"].cumsum(axis=1)[:,NROF_DAYS-1]  # of how many stories done"
   ]
  },
  {
   "cell_type": "code",
   "execution_count": null,
   "id": "dominican-james",
   "metadata": {},
   "outputs": [],
   "source": [
    "def plot_prediction(samples, from_top=False):\n",
    "    percentiles = 100 - PERCENTILES if from_top else PERCENTILES\n",
    "    ax = az.plot_kde(samples, quantiles=percentiles/100)\n",
    "    ax.set_ylabel(\"Probability\")\n",
    "    return ax"
   ]
  },
  {
   "cell_type": "code",
   "execution_count": null,
   "id": "environmental-cisco",
   "metadata": {},
   "outputs": [],
   "source": [
    "ax = plot_prediction(stories_samples, from_top=True)\n",
    "ax.set_title(\"Predicted number of stories\")\n",
    "ax.set_xlabel(\"Stories\")\n",
    "None"
   ]
  },
  {
   "cell_type": "code",
   "execution_count": null,
   "id": "cathedral-freight",
   "metadata": {},
   "outputs": [],
   "source": [
    "def get_quantiles(name, samples, from_top=False):\n",
    "    percentiles = 100 - PERCENTILES if from_top else PERCENTILES\n",
    "    return pd.DataFrame({name: np.percentile(samples, percentiles).astype(int)},\n",
    "                        index=[f\"{q}%\" for q in PERCENTILES])"
   ]
  },
  {
   "cell_type": "code",
   "execution_count": null,
   "id": "specified-calvin",
   "metadata": {},
   "outputs": [],
   "source": [
    "get_quantiles(\"stories\", stories_samples, from_top=True)"
   ]
  },
  {
   "cell_type": "markdown",
   "id": "processed-yesterday",
   "metadata": {},
   "source": [
    "## How many days will be needed for X stories?"
   ]
  },
  {
   "cell_type": "code",
   "execution_count": null,
   "id": "imported-shoulder",
   "metadata": {},
   "outputs": [],
   "source": [
    "ax = plot_expected_burn_up()\n",
    "ax.axhline(NROF_STORIES)\n",
    "None"
   ]
  },
  {
   "cell_type": "code",
   "execution_count": null,
   "id": "patient-minneapolis",
   "metadata": {},
   "outputs": [],
   "source": [
    "days_samples = (post_pred[\"count\"].cumsum(axis=1) < NROF_STORIES).sum(axis=1) + 1  # of nrof days until the stories are done\n",
    "assert np.all(days_samples <= NROF_DAYS), f\"Some scenarios need more than {NROF_DAYS} days\""
   ]
  },
  {
   "cell_type": "code",
   "execution_count": null,
   "id": "attached-lunch",
   "metadata": {},
   "outputs": [],
   "source": [
    "ax = plot_prediction(days_samples)\n",
    "ax.set_title(\"Predicted number of days\")\n",
    "ax.set_xlabel(\"Days\")\n",
    "None"
   ]
  },
  {
   "cell_type": "code",
   "execution_count": null,
   "id": "executed-international",
   "metadata": {},
   "outputs": [],
   "source": [
    "get_quantiles(\"days\", days_samples)"
   ]
  }
 ],
 "metadata": {
  "jupytext": {
   "cell_metadata_filter": "-all",
   "main_language": "python",
   "notebook_metadata_filter": "-all"
  }
 },
 "nbformat": 4,
 "nbformat_minor": 5
}
