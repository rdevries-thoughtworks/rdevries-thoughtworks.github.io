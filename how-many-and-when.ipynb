{
 "cells": [
  {
   "cell_type": "code",
   "execution_count": null,
   "id": "86033f2e",
   "metadata": {},
   "outputs": [],
   "source": [
    "import numpy as np\n",
    "import pandas as pd\n",
    "import matplotlib.pyplot as plt\n",
    "import pymc3 as pm\n",
    "import arviz as az\n",
    "\n",
    "az.style.use(\"arviz-darkgrid\")"
   ]
  },
  {
   "cell_type": "markdown",
   "id": "534cd6a4",
   "metadata": {},
   "source": [
    "## Change these constants to personalize your results"
   ]
  },
  {
   "cell_type": "code",
   "execution_count": null,
   "id": "d22bdb0e",
   "metadata": {},
   "outputs": [],
   "source": [
    "CSV_FILE = \"data.csv\"  # ... containing historic data on throughput\n",
    "START_DATE = \"2018-07-12\"  # ... of measured throughput\n",
    "END_DATE = \"2019-01-30\"  # ... of measured throughput\n",
    "NROF_SAMPLES = 1000  # ... to take for probability distributions\n",
    "NROF_SAMPLE_LINES = 50  # ... to plot for probability distributions\n",
    "NROF_DAYS = 400  # ... to calculate the expected number of stories for\n",
    "NROF_STORIES = 100  # ... to calculate the expected number of days for\n",
    "PERCENTILES = np.array([50, 70, 80, 85, 90, 95, 99])  # ... to show the probability of\n",
    "PLOT_PERCENTILE = 90"
   ]
  },
  {
   "cell_type": "markdown",
   "id": "60024abb",
   "metadata": {},
   "source": [
    "## Historical data"
   ]
  },
  {
   "cell_type": "code",
   "execution_count": null,
   "id": "d738caba",
   "metadata": {},
   "outputs": [],
   "source": [
    "df = pd.read_csv(CSV_FILE, usecols=[\"Done\"], parse_dates=[\"Done\"]).dropna()\n",
    "df = df.rename(columns={\"Done\": \"Date\"}).set_index(\"Date\").assign(Stories=1)\n",
    "df = df.resample(\"D\").count()\n",
    "df = df.reindex(pd.date_range(start=START_DATE, end=END_DATE, freq=\"D\")).fillna(0)\n",
    "df.head()"
   ]
  },
  {
   "cell_type": "code",
   "execution_count": null,
   "id": "e4030870",
   "metadata": {},
   "outputs": [],
   "source": [
    "def plot_burn_up():\n",
    "    _, ax = plt.subplots()\n",
    "    ax.plot(df.index, df.cumsum().Stories)\n",
    "    ax.set_title(\"Burn-up\")\n",
    "    ax.set_xlabel(\"Date\")\n",
    "    ax.set_ylabel(\"Stories\")\n",
    "    return ax"
   ]
  },
  {
   "cell_type": "code",
   "execution_count": null,
   "id": "c3425a71",
   "metadata": {},
   "outputs": [],
   "source": [
    "ax = plot_burn_up()"
   ]
  },
  {
   "cell_type": "markdown",
   "id": "e3cee922",
   "metadata": {},
   "source": [
    "## The model"
   ]
  },
  {
   "cell_type": "code",
   "execution_count": null,
   "id": "ac0f10b1",
   "metadata": {},
   "outputs": [],
   "source": [
    "with pm.Model() as m:\n",
    "    pm.Data(\"count_data\", df.Stories)\n",
    "    pm.Lognormal(\"mu\", mu=0, sigma=1)\n",
    "    pm.Poisson(\"count\", mu=m.mu, observed=m.count_data)"
   ]
  },
  {
   "cell_type": "markdown",
   "id": "4535d8c3",
   "metadata": {},
   "source": [
    "## Evaluate the model\n",
    "\n",
    "What would the model expect based on the priors?"
   ]
  },
  {
   "cell_type": "code",
   "execution_count": null,
   "id": "0b920104",
   "metadata": {},
   "outputs": [],
   "source": [
    "with m:\n",
    "    prior_pc = pm.sample_prior_predictive(NROF_SAMPLES)"
   ]
  },
  {
   "cell_type": "code",
   "execution_count": null,
   "id": "c7bf701f",
   "metadata": {},
   "outputs": [],
   "source": [
    "def plot_stories_per_day(*, prior=None, posterior_predictive=None, group=\"posterior\"):\n",
    "    ax = az.plot_ppc(az.from_pymc3(prior=prior_pc, model=m), group=\"prior\", num_pp_samples=NROF_SAMPLE_LINES)\n",
    "    ax.set_xlabel(\"Stories per Day\")\n",
    "    ax.set_ylabel(\"Probability\")\n",
    "    return ax"
   ]
  },
  {
   "cell_type": "code",
   "execution_count": null,
   "id": "9ca1a7fe",
   "metadata": {},
   "outputs": [],
   "source": [
    "ax = plot_stories_per_day(prior=prior_pc, group=\"prior\")\n",
    "ax.set_title(\"Expected stories per day before seeing any data\")\n",
    "None"
   ]
  },
  {
   "cell_type": "code",
   "execution_count": null,
   "id": "c092cd3a",
   "metadata": {},
   "outputs": [],
   "source": [
    "def plot_burn_up_ppc(ppc):\n",
    "    ax = plot_burn_up()\n",
    "    ax.plot(df.index, ppc[\"count\"][:NROF_SAMPLE_LINES,:].T.cumsum(axis=0), color=\"black\", alpha=.1)\n",
    "    return ax"
   ]
  },
  {
   "cell_type": "code",
   "execution_count": null,
   "id": "82ae6dea",
   "metadata": {},
   "outputs": [],
   "source": [
    "ax = plot_burn_up_ppc(prior_pc)\n",
    "ax.set_title(\"Expected burn-up before seeing any data\")\n",
    "None"
   ]
  },
  {
   "cell_type": "markdown",
   "id": "f585363e",
   "metadata": {},
   "source": [
    "## Inferencing\n",
    "\n",
    "Update the priors based on the data we've seen."
   ]
  },
  {
   "cell_type": "code",
   "execution_count": null,
   "id": "4736288a",
   "metadata": {},
   "outputs": [],
   "source": [
    "with m:\n",
    "    idata = pm.sample(return_inferencedata=True)"
   ]
  },
  {
   "cell_type": "markdown",
   "id": "24cef0f5",
   "metadata": {},
   "source": [
    "## Visualize posterior\n",
    "\n",
    "Compare the trained model with the observed data."
   ]
  },
  {
   "cell_type": "code",
   "execution_count": null,
   "id": "797c6395",
   "metadata": {},
   "outputs": [],
   "source": [
    "with m:\n",
    "    post_pc = pm.sample_posterior_predictive(idata, NROF_SAMPLES)"
   ]
  },
  {
   "cell_type": "code",
   "execution_count": null,
   "id": "624d9bcb",
   "metadata": {},
   "outputs": [],
   "source": [
    "ax = plot_stories_per_day(prior=post_pc)\n",
    "ax.set_title(\"Expected stories per day after seeing any data\")\n",
    "None"
   ]
  },
  {
   "cell_type": "code",
   "execution_count": null,
   "id": "ef3ac79e",
   "metadata": {},
   "outputs": [],
   "source": [
    "ax = plot_burn_up_ppc(post_pc)\n",
    "ax.set_title(\"Expected burn-up after seeing the data\")\n",
    "None"
   ]
  },
  {
   "cell_type": "markdown",
   "id": "b9e8348c",
   "metadata": {},
   "source": [
    "## Predictions"
   ]
  },
  {
   "cell_type": "code",
   "execution_count": null,
   "id": "6bd3c802",
   "metadata": {},
   "outputs": [],
   "source": [
    "with m:\n",
    "    pm.set_data({\n",
    "        \"count_data\": np.zeros(NROF_DAYS, dtype=int),  # generate data for the 100 days to come\n",
    "    })\n",
    "    post_pred = pm.sample_posterior_predictive(idata, NROF_SAMPLES)"
   ]
  },
  {
   "cell_type": "code",
   "execution_count": null,
   "id": "03a8f7a4",
   "metadata": {},
   "outputs": [],
   "source": [
    "def get_date_range():\n",
    "    return pd.date_range(start=END_DATE, periods=NROF_DAYS + 1, freq=\"D\")[1:]"
   ]
  },
  {
   "cell_type": "code",
   "execution_count": null,
   "id": "b8e484dc",
   "metadata": {},
   "outputs": [],
   "source": [
    "def plot_expected_burn_up(percentile=None):\n",
    "    _, ax = plt.subplots()\n",
    "    x = get_date_range()\n",
    "    ax.plot(x, post_pred[\"count\"][:NROF_SAMPLE_LINES,:].T.cumsum(axis=0),\n",
    "            color=\"black\", alpha=.1)\n",
    "    ax.set_title(\"Expected burn-up for future stories\")\n",
    "    ax.set_xlabel(\"Date\")\n",
    "    ax.set_ylabel(\"Stories\")\n",
    "    ax.plot(x, np.mean(post_pred[\"count\"].cumsum(axis=1), axis=0), label=\"expected\")\n",
    "    if percentile:\n",
    "        ax.plot(x, np.percentile(post_pred[\"count\"].cumsum(axis=1), 100-percentile, axis=0), label=f\"{percentile}th percentile\")\n",
    "    ax.legend()\n",
    "    return ax"
   ]
  },
  {
   "cell_type": "code",
   "execution_count": null,
   "id": "f6f87a96",
   "metadata": {},
   "outputs": [],
   "source": [
    "ax = plot_expected_burn_up()"
   ]
  },
  {
   "cell_type": "code",
   "execution_count": null,
   "id": "f950b6d6",
   "metadata": {},
   "outputs": [],
   "source": [
    "ax = plot_expected_burn_up(percentile=PLOT_PERCENTILE)"
   ]
  },
  {
   "cell_type": "markdown",
   "id": "861f4754",
   "metadata": {},
   "source": [
    "## How many stories will be done in X days?"
   ]
  },
  {
   "cell_type": "code",
   "execution_count": null,
   "id": "b0e3f7a8",
   "metadata": {},
   "outputs": [],
   "source": [
    "ax = plot_expected_burn_up()\n",
    "ax.axvline(get_date_range()[-1])\n",
    "None"
   ]
  },
  {
   "cell_type": "code",
   "execution_count": null,
   "id": "a1529448",
   "metadata": {},
   "outputs": [],
   "source": [
    "stories_samples = post_pred[\"count\"].cumsum(axis=1)[:,NROF_DAYS-1]  # of how many stories done"
   ]
  },
  {
   "cell_type": "code",
   "execution_count": null,
   "id": "f9085b53",
   "metadata": {},
   "outputs": [],
   "source": [
    "def plot_prediction(samples, from_top=False, cumulative=False):\n",
    "    percentiles = 100 - PERCENTILES if from_top else PERCENTILES\n",
    "    ax = az.plot_kde(samples, quantiles=percentiles/100, cumulative=cumulative)\n",
    "    ax.set_ylabel(\"Probability\")\n",
    "    return ax"
   ]
  },
  {
   "cell_type": "code",
   "execution_count": null,
   "id": "9ffff83c",
   "metadata": {},
   "outputs": [],
   "source": [
    "ax = plot_prediction(stories_samples, from_top=True)\n",
    "ax.set_title(\"Predicted number of stories\")\n",
    "ax.set_xlabel(\"Stories\")\n",
    "None"
   ]
  },
  {
   "cell_type": "code",
   "execution_count": null,
   "id": "2b1b2f27",
   "metadata": {},
   "outputs": [],
   "source": [
    "ax = plot_prediction(stories_samples, from_top=True, cumulative=True)\n",
    "ax.set_title(\"Predicted number of stories (cumulative)\")\n",
    "ax.set_xlabel(\"Stories\")\n",
    "None"
   ]
  },
  {
   "cell_type": "code",
   "execution_count": null,
   "id": "c5d6be9d",
   "metadata": {},
   "outputs": [],
   "source": [
    "def get_quantiles(name, samples, from_top=False):\n",
    "    percentiles = 100 - PERCENTILES if from_top else PERCENTILES\n",
    "    return pd.DataFrame({name: np.percentile(samples, percentiles).astype(int)},\n",
    "                        index=[f\"{q}%\" for q in PERCENTILES])"
   ]
  },
  {
   "cell_type": "code",
   "execution_count": null,
   "id": "65d12ef9",
   "metadata": {},
   "outputs": [],
   "source": [
    "np.mean(stories_samples)  # expected nrof stories"
   ]
  },
  {
   "cell_type": "code",
   "execution_count": null,
   "id": "9805adf2",
   "metadata": {},
   "outputs": [],
   "source": [
    "get_quantiles(\"stories\", stories_samples, from_top=True)"
   ]
  },
  {
   "cell_type": "markdown",
   "id": "7264ea4a",
   "metadata": {},
   "source": [
    "## How many days will be needed for X stories?"
   ]
  },
  {
   "cell_type": "code",
   "execution_count": null,
   "id": "4c643166",
   "metadata": {},
   "outputs": [],
   "source": [
    "ax = plot_expected_burn_up()\n",
    "ax.axhline(NROF_STORIES)\n",
    "None"
   ]
  },
  {
   "cell_type": "code",
   "execution_count": null,
   "id": "50086050",
   "metadata": {},
   "outputs": [],
   "source": [
    "days_samples = (post_pred[\"count\"].cumsum(axis=1) < NROF_STORIES).sum(axis=1) + 1  # of nrof days until the stories are done\n",
    "assert np.all(days_samples <= NROF_DAYS), f\"Some scenarios need more than {NROF_DAYS} days\"\n",
    "dates_samples = pd.to_timedelta(days_samples, \"D\") + get_date_range()[-1]"
   ]
  },
  {
   "cell_type": "code",
   "execution_count": null,
   "id": "e76e8eab",
   "metadata": {},
   "outputs": [],
   "source": [
    "ax = plot_prediction(days_samples)\n",
    "ax.set_title(\"Predicted number of days\")\n",
    "ax.set_xlabel(\"Days\")\n",
    "None"
   ]
  },
  {
   "cell_type": "code",
   "execution_count": null,
   "id": "9c5fd8d0",
   "metadata": {},
   "outputs": [],
   "source": [
    "ax = plot_prediction(days_samples, cumulative=True)\n",
    "ax.set_title(\"Predicted number of days (cumulative)\")\n",
    "ax.set_xlabel(\"Days\")\n",
    "None"
   ]
  },
  {
   "cell_type": "code",
   "execution_count": null,
   "id": "d99d5ed6",
   "metadata": {},
   "outputs": [],
   "source": [
    "np.mean(days_samples)  # expected nrof days"
   ]
  },
  {
   "cell_type": "code",
   "execution_count": null,
   "id": "bf4f9b09",
   "metadata": {},
   "outputs": [],
   "source": [
    "(get_date_range()[-1] + pd.to_timedelta(np.mean(days_samples), \"D\")).strftime(\"%Y-%m-%d\")"
   ]
  },
  {
   "cell_type": "code",
   "execution_count": null,
   "id": "5cf60846",
   "metadata": {},
   "outputs": [],
   "source": [
    "_df = get_quantiles(\"days\", days_samples)\n",
    "_df[\"date\"] = pd.to_timedelta(_df.days, \"D\") + get_date_range()[-1]\n",
    "_df"
   ]
  }
 ],
 "metadata": {
  "jupytext": {
   "cell_metadata_filter": "-all",
   "main_language": "python",
   "notebook_metadata_filter": "-all"
  }
 },
 "nbformat": 4,
 "nbformat_minor": 5
}
