{
 "cells": [
  {
   "cell_type": "code",
   "execution_count": null,
   "id": "3321505d",
   "metadata": {},
   "outputs": [],
   "source": [
    "import numpy as np\n",
    "import pandas as pd\n",
    "import matplotlib.pyplot as plt\n",
    "import pymc3 as pm\n",
    "import arviz as az\n",
    "\n",
    "az.style.use(\"arviz-darkgrid\")"
   ]
  },
  {
   "cell_type": "markdown",
   "id": "05cf3a00",
   "metadata": {},
   "source": [
    "## Change these constants to personalize your results"
   ]
  },
  {
   "cell_type": "code",
   "execution_count": null,
   "id": "bc4813f5",
   "metadata": {},
   "outputs": [],
   "source": [
    "CSV_FILE = \"data.csv\"  # ... containing historic data on throughput\n",
    "START_DATE = \"2018-07-12\"  # ... of measured throughput\n",
    "END_DATE = \"2019-01-30\"  # ... of measured throughput\n",
    "NROF_SAMPLES = 1000  # ... to take for probability distributions\n",
    "NROF_SAMPLE_LINES = 50  # ... to plot for probability distributions\n",
    "NROF_DAYS = 400  # ... to calculate the expected number of stories for\n",
    "NROF_STORIES = 100  # ... to calculate the expected number of days for\n",
    "PERCENTILES = np.array([50, 70, 80, 85, 90, 95, 99])  # ... to show the probability of\n",
    "PLOT_PERCENTILE = 90"
   ]
  },
  {
   "cell_type": "markdown",
   "id": "f3a4468a",
   "metadata": {},
   "source": [
    "## Historical data"
   ]
  },
  {
   "cell_type": "code",
   "execution_count": null,
   "id": "7dc36f69",
   "metadata": {},
   "outputs": [],
   "source": [
    "df = pd.read_csv(CSV_FILE, usecols=[\"Done\"], parse_dates=[\"Done\"]).dropna()\n",
    "df = df.rename(columns={\"Done\": \"Date\"}).set_index(\"Date\").assign(Stories=1)\n",
    "df = df.resample(\"D\").count()\n",
    "df = df.reindex(pd.date_range(start=START_DATE, end=END_DATE, freq=\"D\")).fillna(0)\n",
    "df.head()"
   ]
  },
  {
   "cell_type": "code",
   "execution_count": null,
   "id": "81bcd59e",
   "metadata": {},
   "outputs": [],
   "source": [
    "def plot_burn_up():\n",
    "    _, ax = plt.subplots()\n",
    "    ax.plot(df.index, df.cumsum().Stories)\n",
    "    ax.set_title(\"Burn-up\")\n",
    "    ax.set_xlabel(\"Date\")\n",
    "    ax.set_ylabel(\"Stories\")\n",
    "    return ax"
   ]
  },
  {
   "cell_type": "code",
   "execution_count": null,
   "id": "ac012111",
   "metadata": {},
   "outputs": [],
   "source": [
    "ax = plot_burn_up()"
   ]
  },
  {
   "cell_type": "markdown",
   "id": "f0eaaf2e",
   "metadata": {},
   "source": [
    "## The model"
   ]
  },
  {
   "cell_type": "code",
   "execution_count": null,
   "id": "034426cc",
   "metadata": {},
   "outputs": [],
   "source": [
    "with pm.Model() as m:\n",
    "    pm.Data(\"count_data\", df.Stories)\n",
    "    pm.Lognormal(\"mu\", mu=0, sigma=1)\n",
    "    pm.Poisson(\"count\", mu=m.mu, observed=m.count_data)"
   ]
  },
  {
   "cell_type": "markdown",
   "id": "fb8692fb",
   "metadata": {},
   "source": [
    "## Evaluate the model\n",
    "\n",
    "What would the model expect based on the priors?"
   ]
  },
  {
   "cell_type": "code",
   "execution_count": null,
   "id": "d2eb21fd",
   "metadata": {},
   "outputs": [],
   "source": [
    "with m:\n",
    "    prior_pc = pm.sample_prior_predictive(NROF_SAMPLES)"
   ]
  },
  {
   "cell_type": "code",
   "execution_count": null,
   "id": "497728b0",
   "metadata": {},
   "outputs": [],
   "source": [
    "def plot_stories_per_day(*, prior=None, posterior_predictive=None, group=\"posterior\"):\n",
    "    ax = az.plot_ppc(az.from_pymc3(prior=prior_pc, model=m), group=\"prior\", num_pp_samples=NROF_SAMPLE_LINES)\n",
    "    ax.set_xlabel(\"Stories per Day\")\n",
    "    ax.set_ylabel(\"Probability\")\n",
    "    return ax"
   ]
  },
  {
   "cell_type": "code",
   "execution_count": null,
   "id": "ebbde26c",
   "metadata": {},
   "outputs": [],
   "source": [
    "ax = plot_stories_per_day(prior=prior_pc, group=\"prior\")\n",
    "ax.set_title(\"Expected stories per day before seeing any data\")\n",
    "None"
   ]
  },
  {
   "cell_type": "code",
   "execution_count": null,
   "id": "d2187974",
   "metadata": {},
   "outputs": [],
   "source": [
    "def plot_burn_up_ppc(ppc):\n",
    "    ax = plot_burn_up()\n",
    "    ax.plot(df.index, ppc[\"count\"][:NROF_SAMPLE_LINES,:].T.cumsum(axis=0), color=\"black\", alpha=.1)\n",
    "    return ax"
   ]
  },
  {
   "cell_type": "code",
   "execution_count": null,
   "id": "427a8d14",
   "metadata": {},
   "outputs": [],
   "source": [
    "ax = plot_burn_up_ppc(prior_pc)\n",
    "ax.set_title(\"Expected burn-up before seeing any data\")\n",
    "None"
   ]
  },
  {
   "cell_type": "markdown",
   "id": "33651b7e",
   "metadata": {},
   "source": [
    "## Inferencing\n",
    "\n",
    "Update the priors based on the data we've seen."
   ]
  },
  {
   "cell_type": "code",
   "execution_count": null,
   "id": "e07f7bcb",
   "metadata": {},
   "outputs": [],
   "source": [
    "with m:\n",
    "    idata = pm.sample(return_inferencedata=True)"
   ]
  },
  {
   "cell_type": "markdown",
   "id": "fb539b39",
   "metadata": {},
   "source": [
    "## Visualize posterior\n",
    "\n",
    "Compare the trained model with the observed data."
   ]
  },
  {
   "cell_type": "code",
   "execution_count": null,
   "id": "956e8a1d",
   "metadata": {},
   "outputs": [],
   "source": [
    "with m:\n",
    "    post_pc = pm.sample_posterior_predictive(idata, NROF_SAMPLES)"
   ]
  },
  {
   "cell_type": "code",
   "execution_count": null,
   "id": "ead7cd85",
   "metadata": {},
   "outputs": [],
   "source": [
    "ax = plot_stories_per_day(prior=post_pc)\n",
    "ax.set_title(\"Expected stories per day after seeing any data\")\n",
    "None"
   ]
  },
  {
   "cell_type": "code",
   "execution_count": null,
   "id": "6e622eda",
   "metadata": {},
   "outputs": [],
   "source": [
    "ax = plot_burn_up_ppc(post_pc)\n",
    "ax.set_title(\"Expected burn-up after seeing the data\")\n",
    "None"
   ]
  },
  {
   "cell_type": "markdown",
   "id": "a4104493",
   "metadata": {},
   "source": [
    "## Predictions"
   ]
  },
  {
   "cell_type": "code",
   "execution_count": null,
   "id": "edf5d188",
   "metadata": {},
   "outputs": [],
   "source": [
    "with m:\n",
    "    pm.set_data({\n",
    "        \"count_data\": np.zeros(NROF_DAYS, dtype=int),  # generate data for the 100 days to come\n",
    "    })\n",
    "    post_pred = pm.sample_posterior_predictive(idata, NROF_SAMPLES)"
   ]
  },
  {
   "cell_type": "code",
   "execution_count": null,
   "id": "c60faf72",
   "metadata": {},
   "outputs": [],
   "source": [
    "def get_date_range():\n",
    "    return pd.date_range(start=END_DATE, periods=NROF_DAYS + 1, freq=\"D\")  # ... including day 0"
   ]
  },
  {
   "cell_type": "code",
   "execution_count": null,
   "id": "bf7948a5",
   "metadata": {},
   "outputs": [],
   "source": [
    "def plot_expected_burn_up(percentile=None):\n",
    "    _, ax = plt.subplots()\n",
    "    x = get_date_range()[1:]\n",
    "    ax.plot(x, post_pred[\"count\"][:NROF_SAMPLE_LINES,:].T.cumsum(axis=0),\n",
    "            color=\"black\", alpha=.1)\n",
    "    ax.set_title(\"Expected burn-up for future stories\")\n",
    "    ax.set_xlabel(\"Date\")\n",
    "    ax.set_ylabel(\"Stories\")\n",
    "    ax.plot(x, np.mean(post_pred[\"count\"].cumsum(axis=1), axis=0), label=\"expected\")\n",
    "    if percentile:\n",
    "        ax.plot(x, np.percentile(post_pred[\"count\"].cumsum(axis=1), 100-percentile, axis=0), label=f\"{percentile}th percentile\")\n",
    "    ax.legend()\n",
    "    return ax"
   ]
  },
  {
   "cell_type": "code",
   "execution_count": null,
   "id": "fda01762",
   "metadata": {},
   "outputs": [],
   "source": [
    "ax = plot_expected_burn_up()"
   ]
  },
  {
   "cell_type": "code",
   "execution_count": null,
   "id": "5cc11e6e",
   "metadata": {},
   "outputs": [],
   "source": [
    "ax = plot_expected_burn_up(percentile=PLOT_PERCENTILE)"
   ]
  },
  {
   "cell_type": "markdown",
   "id": "c76c30a2",
   "metadata": {},
   "source": [
    "## How many stories will be done in X days?"
   ]
  },
  {
   "cell_type": "code",
   "execution_count": null,
   "id": "9f871aae",
   "metadata": {},
   "outputs": [],
   "source": [
    "ax = plot_expected_burn_up()\n",
    "ax.axvline(get_date_range()[-1])\n",
    "None"
   ]
  },
  {
   "cell_type": "code",
   "execution_count": null,
   "id": "a9e6550b",
   "metadata": {},
   "outputs": [],
   "source": [
    "stories_samples = post_pred[\"count\"].cumsum(axis=1)[:,NROF_DAYS-1]  # of how many stories done"
   ]
  },
  {
   "cell_type": "code",
   "execution_count": null,
   "id": "7ac40cb9",
   "metadata": {},
   "outputs": [],
   "source": [
    "def plot_prediction(samples, from_top=False, cumulative=False):\n",
    "    percentiles = 100 - PERCENTILES if from_top else PERCENTILES\n",
    "    ax = az.plot_kde(samples, quantiles=percentiles/100, cumulative=cumulative)\n",
    "    ax.set_ylabel(\"Probability\")\n",
    "    return ax"
   ]
  },
  {
   "cell_type": "code",
   "execution_count": null,
   "id": "578a3eb4",
   "metadata": {},
   "outputs": [],
   "source": [
    "ax = plot_prediction(stories_samples, from_top=True)\n",
    "ax.set_title(\"Predicted number of stories\")\n",
    "ax.set_xlabel(\"Stories\")\n",
    "None"
   ]
  },
  {
   "cell_type": "code",
   "execution_count": null,
   "id": "2938738d",
   "metadata": {},
   "outputs": [],
   "source": [
    "ax = plot_prediction(stories_samples, from_top=True, cumulative=True)\n",
    "ax.set_title(\"Predicted number of stories (cumulative)\")\n",
    "ax.set_xlabel(\"Stories\")\n",
    "None"
   ]
  },
  {
   "cell_type": "code",
   "execution_count": null,
   "id": "0dbf3f64",
   "metadata": {},
   "outputs": [],
   "source": [
    "def get_quantiles(name, samples, from_top=False):\n",
    "    percentiles = 100 - PERCENTILES if from_top else PERCENTILES\n",
    "    return pd.DataFrame({name: np.percentile(samples, percentiles).astype(int)},\n",
    "                        index=[f\"{q}%\" for q in PERCENTILES])"
   ]
  },
  {
   "cell_type": "code",
   "execution_count": null,
   "id": "8a191451",
   "metadata": {},
   "outputs": [],
   "source": [
    "np.mean(stories_samples)  # expected nrof stories"
   ]
  },
  {
   "cell_type": "code",
   "execution_count": null,
   "id": "ae6c1afe",
   "metadata": {},
   "outputs": [],
   "source": [
    "get_quantiles(\"stories\", stories_samples, from_top=True)"
   ]
  },
  {
   "cell_type": "markdown",
   "id": "8693290b",
   "metadata": {},
   "source": [
    "## How many days will be needed for X stories?"
   ]
  },
  {
   "cell_type": "code",
   "execution_count": null,
   "id": "d92f69c0",
   "metadata": {},
   "outputs": [],
   "source": [
    "ax = plot_expected_burn_up()\n",
    "ax.axhline(NROF_STORIES)\n",
    "None"
   ]
  },
  {
   "cell_type": "code",
   "execution_count": null,
   "id": "a55edff7",
   "metadata": {},
   "outputs": [],
   "source": [
    "days_samples = (post_pred[\"count\"].cumsum(axis=1) < NROF_STORIES).sum(axis=1) + 1  # of nrof days until the stories are done\n",
    "assert np.all(days_samples <= NROF_DAYS), f\"Some scenarios need more than {NROF_DAYS} days\"\n",
    "dates_samples = pd.to_timedelta(days_samples, \"D\") + get_date_range()[0]"
   ]
  },
  {
   "cell_type": "code",
   "execution_count": null,
   "id": "d05a611d",
   "metadata": {},
   "outputs": [],
   "source": [
    "ax = plot_prediction(days_samples)\n",
    "ax.set_title(\"Predicted number of days\")\n",
    "ax.set_xlabel(\"Days\")\n",
    "None"
   ]
  },
  {
   "cell_type": "code",
   "execution_count": null,
   "id": "b23b8bdd",
   "metadata": {},
   "outputs": [],
   "source": [
    "ax = plot_prediction(days_samples, cumulative=True)\n",
    "ax.set_title(\"Predicted number of days (cumulative)\")\n",
    "ax.set_xlabel(\"Days\")\n",
    "None"
   ]
  },
  {
   "cell_type": "code",
   "execution_count": null,
   "id": "506b6576",
   "metadata": {},
   "outputs": [],
   "source": [
    "np.mean(days_samples)  # expected nrof days"
   ]
  },
  {
   "cell_type": "code",
   "execution_count": null,
   "id": "57d24f2b",
   "metadata": {},
   "outputs": [],
   "source": [
    "(get_date_range()[0] + pd.to_timedelta(np.mean(days_samples), \"D\")).strftime(\"%Y-%m-%d\")"
   ]
  },
  {
   "cell_type": "code",
   "execution_count": null,
   "id": "65184878",
   "metadata": {},
   "outputs": [],
   "source": [
    "_df = get_quantiles(\"days\", days_samples)\n",
    "_df[\"date\"] = pd.to_timedelta(_df.days, \"D\") + get_date_range()[0]\n",
    "_df"
   ]
  }
 ],
 "metadata": {
  "jupytext": {
   "cell_metadata_filter": "-all",
   "main_language": "python",
   "notebook_metadata_filter": "-all"
  }
 },
 "nbformat": 4,
 "nbformat_minor": 5
}
